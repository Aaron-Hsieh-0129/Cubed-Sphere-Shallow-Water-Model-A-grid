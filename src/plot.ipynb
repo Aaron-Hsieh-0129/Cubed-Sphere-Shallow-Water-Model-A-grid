{
 "cells": [
  {
   "cell_type": "markdown",
   "metadata": {},
   "source": [
    "## Import Package"
   ]
  },
  {
   "cell_type": "code",
   "execution_count": 1,
   "metadata": {},
   "outputs": [],
   "source": [
    "import matplotlib.pyplot as plt\n",
    "import numpy as np\n",
    "import matplotlib.cm as cm\n",
    "import os\n",
    "import plotFunc as pf\n",
    "\n",
    "import multiprocessing\n",
    "from multiprocessing import Pool"
   ]
  },
  {
   "cell_type": "code",
   "execution_count": 7,
   "metadata": {},
   "outputs": [],
   "source": [
    "pf.plotSphereCartopyZeta(0)"
   ]
  },
  {
   "cell_type": "code",
   "execution_count": null,
   "metadata": {},
   "outputs": [],
   "source": [
    "h = np.loadtxt(f\"../outputs/h/h_0.txt\").reshape(6, 45, 45)\n",
    "hh = np.concatenate((h[5, :, 45//2], h[0, :, 45//2], h[4, :, 45//2]))\n",
    "plt.plot(hh[70:120], np.arange(len(hh))[70:120])"
   ]
  },
  {
   "cell_type": "markdown",
   "metadata": {},
   "source": [
    "## Define Constant"
   ]
  },
  {
   "cell_type": "code",
   "execution_count": 7,
   "metadata": {},
   "outputs": [],
   "source": [
    "DX = DY = 2\n",
    "NX = NY = int(90 / DX + 2- 2)\n",
    "DT = 360"
   ]
  },
  {
   "cell_type": "code",
   "execution_count": null,
   "metadata": {},
   "outputs": [],
   "source": [
    "u = np.loadtxt(f\"../outputs/u/u_0.txt\").reshape(6, 45, 45)\n",
    "v = np.loadtxt(f\"../outputs/v/v_0.txt\").reshape(6, 45, 45)\n",
    "x, y = np.loadtxt(\"../outputs/grids/x.txt\").reshape(6, NX, NY), np.loadtxt(\"../outputs/grids/y.txt\").reshape(6, NX, NY)\n",
    "\n",
    "zeta = ((v[:, :, 2:] - v[:, :, :-2]) / ((x[:, :, 2:] - x[:, :, :-2]) / 2))[:, 1:-1, :] + ((u[:, 2:, :] - u[:, :-2, :]) / ((y[:, 2:, :] - y[:, :-2, :]) / 2))[:, :, 1:-1]\n",
    "plt.contourf(zeta[0])\n",
    "plt.colorbar()\n",
    "plt.show()"
   ]
  },
  {
   "cell_type": "markdown",
   "metadata": {},
   "source": [
    "## Plot Function"
   ]
  },
  {
   "attachments": {},
   "cell_type": "markdown",
   "metadata": {},
   "source": [
    "#### Function for plot grids"
   ]
  },
  {
   "cell_type": "code",
   "execution_count": null,
   "metadata": {},
   "outputs": [],
   "source": [
    "def Plotgrids(val, left, right, split, title, saveplace):\n",
    "    fig = plt.figure(figsize=(18,10))\n",
    "    ax5 = fig.add_subplot(3,4,2)\n",
    "    ax4 = fig.add_subplot(3,4,5)\n",
    "    ax1 = fig.add_subplot(3,4,6)\n",
    "    ax2 = fig.add_subplot(3,4,7)\n",
    "    ax3 = fig.add_subplot(3,4,8)\n",
    "    ax6 = fig.add_subplot(3,4,10)\n",
    "\n",
    "    cmap = cm.twilight_shifted\n",
    "\n",
    "    cs1 = ax1.contourf(val[0], levels=np.linspace(left, right, split), cmap=cmap)\n",
    "    ax2.contourf(val[1], levels=np.linspace(left, right, split), cmap=cmap)\n",
    "    ax3.contourf(val[2], levels=np.linspace(left, right, split), cmap=cmap)\n",
    "    ax4.contourf(val[3], levels=np.linspace(left, right, split), cmap=cmap)\n",
    "    ax5.contourf(val[4], levels=np.linspace(left, right, split), cmap=cmap)\n",
    "    ax6.contourf(val[5], levels=np.linspace(left, right, split), cmap=cmap)\n",
    "    cb_ax1 = fig.add_axes([0.9235, 0.1, 0.015, 0.78])\n",
    "    fig.colorbar(cs1, cax=cb_ax1, ticks=np.linspace(left, right, split))\n",
    "\n",
    "    ax5.set_title(title, fontsize=14)\n",
    "    plt.savefig(saveplace, dpi=300)\n",
    "    plt.close()\n",
    "    return"
   ]
  },
  {
   "cell_type": "markdown",
   "metadata": {},
   "source": [
    "## Load and Plot grids-related Data"
   ]
  },
  {
   "cell_type": "code",
   "execution_count": 8,
   "metadata": {},
   "outputs": [],
   "source": [
    "x, y = np.loadtxt(\"../outputs/grids/x.txt\").reshape(6, NX, NY), np.loadtxt(\"../outputs/grids/y.txt\").reshape(6, NX, NY)\n",
    "lon, lat = np.loadtxt(\"../outputs/grids/lon.txt\").reshape(6, NX, NY), np.loadtxt(\"../outputs/grids/lat.txt\").reshape(6, NX, NY)"
   ]
  },
  {
   "cell_type": "code",
   "execution_count": null,
   "metadata": {},
   "outputs": [],
   "source": [
    "Plotgrids(lat * 180 / np.pi, -90, 90, 11, \"Latitude On Cube\", \"../graphs/grids/latitudeOnCube.png\")\n",
    "# lon_mod = np.where(lon < 0, lon + 2*np.pi, lon)\n",
    "Plotgrids(lon * 180 / np.pi, 0, 360, 25, \"Longitude On Cube\", \"../graphs/grids/longitudeOnCube.png\")\n",
    "Plotgrids(x, np.min(x), np.max(x), 11, \"x On Cube\", \"../graphs/grids/xOnCube.png\")\n",
    "Plotgrids(y, np.min(y), np.max(y), 11, \"y On Cube\", \"../graphs/grids/yOnCube.png\")"
   ]
  },
  {
   "cell_type": "markdown",
   "metadata": {},
   "source": [
    "## Plot h/wind"
   ]
  },
  {
   "cell_type": "code",
   "execution_count": null,
   "metadata": {},
   "outputs": [],
   "source": [
    "if __name__ == '__main__':\n",
    "    nProc = multiprocessing.cpu_count()\n",
    "    with Pool(nProc) as p:\n",
    "        results = [p.apply_async(pf.plotOnCubeMul, (t, )) for t in range(0, 1000, 10)]\n",
    "        final = [result.get() for result in results]"
   ]
  },
  {
   "cell_type": "code",
   "execution_count": null,
   "metadata": {},
   "outputs": [],
   "source": [
    "if __name__ == '__main__':\n",
    "    nProc = multiprocessing.cpu_count()\n",
    "    with Pool(nProc) as p:\n",
    "        results = [p.apply_async(pf.plotOnCubeWindMul, (t, )) for t in range(0, 1000, 10)]\n",
    "        final = [result.get() for result in results]"
   ]
  },
  {
   "cell_type": "code",
   "execution_count": null,
   "metadata": {},
   "outputs": [],
   "source": [
    "if __name__ == '__main__':\n",
    "    nProc = multiprocessing.cpu_count()\n",
    "    with Pool(nProc) as p:\n",
    "        results = [p.apply_async(pf.plotOnSphereMul, (t, )) for t in range(0, 1000, 10)]\n",
    "        final = [result.get() for result in results]"
   ]
  },
  {
   "cell_type": "code",
   "execution_count": null,
   "metadata": {},
   "outputs": [],
   "source": [
    "if __name__ == '__main__':\n",
    "    nProc = multiprocessing.cpu_count()\n",
    "    with Pool(nProc) as p:\n",
    "        results = [p.apply_async(pf.plotOnSphereWindMul, (t, )) for t in range(0, 1000, 10)]\n",
    "        final = [result.get() for result in results]"
   ]
  },
  {
   "attachments": {},
   "cell_type": "markdown",
   "metadata": {},
   "source": [
    "## Wind Plot"
   ]
  },
  {
   "cell_type": "code",
   "execution_count": null,
   "metadata": {},
   "outputs": [],
   "source": [
    "# x/y\n",
    "NX = NY = 45\n",
    "u = np.loadtxt(\"../outputs/u/u_0.txt\").reshape(6, NX, NY)\n",
    "v = np.loadtxt(\"../outputs/v/v_0.txt\").reshape(6, NX, NY)\n",
    "x, y = np.loadtxt(\"../outputs/grids/x.txt\").reshape(6, NX, NY), np.loadtxt(\"../outputs/grids/y.txt\").reshape(6, NX, NY)\n",
    "\n",
    "\n",
    "\n",
    "fig = plt.figure(figsize=(18, 10))\n",
    "ax5 = fig.add_subplot(342)\n",
    "ax4 = fig.add_subplot(345)\n",
    "ax1 = fig.add_subplot(346)\n",
    "ax2 = fig.add_subplot(347)\n",
    "ax3 = fig.add_subplot(348)\n",
    "ax6 = fig.add_subplot(3,4,10)\n",
    "\n",
    "ax1.quiver(x[0][::2, ::2], y[0][::2, ::2], u[0][::2, ::2], v[0][::2, ::2], angles='xy', units=\"width\", scale=1000)\n",
    "ax2.quiver(x[1][::2, ::2], y[1][::2, ::2], u[1][::2, ::2], v[1][::2, ::2], angles='xy', units=\"width\", scale=1000)\n",
    "ax3.quiver(x[2][::2, ::2], y[2][::2, ::2], u[2][::2, ::2], v[2][::2, ::2], angles='xy', units=\"width\", scale=1000)\n",
    "ax4.quiver(x[3][::2, ::2], y[3][::2, ::2], u[3][::2, ::2], v[3][::2, ::2], angles='xy', units=\"width\", scale=1000)\n",
    "Q = ax5.quiver(x[4][::2, ::2], y[4][::2, ::2], u[4][::2, ::2], v[4][::2, ::2], angles='xy', units=\"width\", scale=1000)\n",
    "ax6.quiver(x[5][::2, ::2], y[5][::2, ::2], u[5][::2, ::2], v[5][::2, ::2], angles='xy', units=\"width\", scale=1000)\n",
    "qk = plt.quiverkey(Q, 0.48, 0.975, 30, r'$30 \\frac{m}{s}$', labelpos='E', coordinates='figure')\n",
    "ax5.set_title(\"Curvilinear Coordinate\")\n",
    "plt.tight_layout()\n",
    "plt.savefig(\"../graphs/wind/curvilinear.png\", dpi=150)\n",
    "# plt.show()"
   ]
  },
  {
   "cell_type": "code",
   "execution_count": null,
   "metadata": {},
   "outputs": [],
   "source": [
    "NX = NY = 45\n",
    "u = np.loadtxt(\"../outputs/u_lon_lat/u_lon_lat_0.txt\").reshape(6, NX, NY)\n",
    "v = np.loadtxt(\"../outputs/v_lon_lat/v_lon_lat_0.txt\").reshape(6, NX, NY)\n",
    "lon = np.loadtxt(\"../outputs/grids/lon.txt\").reshape(6, NX, NY) * 180. / np.pi\n",
    "lat = np.loadtxt(\"../outputs/grids/lat.txt\").reshape(6, NX, NY) * 180. / np.pi\n",
    "\n",
    "lon[0, :, :NX//2] = lon[0, :, :NX//2] - 360\n",
    "lon[4, :, :NX//2] = lon[4, :, :NX//2] - 360\n",
    "lon[5, :, :NX//2] = lon[5, :, :NX//2] - 360\n",
    "\n",
    "wind = 20\n",
    "\n",
    "\n",
    "plt.figure(figsize=(18, 12))\n",
    "plt.title(\"Spherical Coordinate\")\n",
    "scale = 2000\n",
    "plt.quiver(lon[0][::2, ::2], lat[0][::2, ::2], u[0][::2, ::2], v[0][::2, ::2], angles='xy', units=\"width\", scale=scale)\n",
    "plt.quiver(lon[1][::2, ::2], lat[1][::2, ::2], u[1][::2, ::2], v[1][::2, ::2], angles='xy', units=\"width\", scale=scale)\n",
    "plt.quiver(lon[2, :, 0:NX//2][::2, ::2], lat[2, :, 0:NX//2][::2, ::2], u[2, :, 0:NX//2][::2, ::2], v[2, :, 0:NX//2][::2, ::2], angles='xy', units=\"width\", scale=scale)\n",
    "plt.quiver(lon[2, :, NX//2:][::2, ::2]-360, lat[2, :, NX//2:][::2, ::2], u[2, :, NX//2:][::2, ::2], v[2, :, NX//2:][::2, ::2], angles='xy', units=\"width\", scale=scale)\n",
    "plt.quiver(lon[3][::2, ::2]-360, lat[3][::2, ::2], u[3][::2, ::2], v[3][::2, ::2], angles='xy', units=\"width\", scale=scale)\n",
    "plt.quiver(lon[4][::2, ::2], lat[4][::2, ::2], u[4][::2, ::2], v[4][::2, ::2], angles='xy', units=\"width\", scale=scale)\n",
    "Q = plt.quiver(lon[5][::2, ::2], lat[5][::2, ::2], u[5][::2, ::2], v[5][::2, ::2], angles='xy', units=\"width\", scale=scale)\n",
    "qk = plt.quiverkey(Q, 0.7, 0.9, wind, f\"{wind}\" + r'$ \\frac{m}{s}$', labelpos='E', coordinates='figure')\n",
    "        \n",
    "plt.savefig(\"../graphs/wind/spherical.png\", dpi=150)\n",
    "plt.close()"
   ]
  }
 ],
 "metadata": {
  "kernelspec": {
   "display_name": "Python 3.9.12 ('base')",
   "language": "python",
   "name": "python3"
  },
  "language_info": {
   "codemirror_mode": {
    "name": "ipython",
    "version": 3
   },
   "file_extension": ".py",
   "mimetype": "text/x-python",
   "name": "python",
   "nbconvert_exporter": "python",
   "pygments_lexer": "ipython3",
   "version": "3.9.15"
  },
  "orig_nbformat": 4,
  "vscode": {
   "interpreter": {
    "hash": "e72609c0a7db2dac87eb69b6e3eea5379b6dc1bb2c88836fd40789aaef8e86c1"
   }
  }
 },
 "nbformat": 4,
 "nbformat_minor": 2
}
